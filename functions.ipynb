{
 "cells": [
  {
   "cell_type": "code",
   "execution_count": null,
   "id": "722d43d9-356c-4b15-a8bd-f915146cc9fa",
   "metadata": {},
   "outputs": [],
   "source": [
    "#Theory Questions:"
   ]
  },
  {
   "cell_type": "code",
   "execution_count": null,
   "id": "71d25f4d-caaa-4006-8f9c-eb6feaa1b3ca",
   "metadata": {},
   "outputs": [],
   "source": [
    "\"\"\"1. What is the difference between a function and a method in Python?\n",
    "A function in Python is a block of reusable code that performs a specific task, defined using the def keyword.\n",
    "A method is similar to a function but is associated with an object and can access and modify the object's\n",
    "attributes. Methods are defined within a class."
   ]
  },
  {
   "cell_type": "code",
   "execution_count": null,
   "id": "a6f9eadd-074f-40ca-8c23-b158650f2fbb",
   "metadata": {},
   "outputs": [],
   "source": [
    "\"\"\"2. Explain the concept of function arguments and parameters in Python.\n",
    "Parameters are the variables listed inside the parentheses in the function definition. They act as placeholders\n",
    "for the values that will be passed to the function. \n",
    "Arguments are the actual values passed to the function when it is called."
   ]
  },
  {
   "cell_type": "code",
   "execution_count": 1,
   "id": "af72ddf8-eda4-43dc-991d-0d0d75be1288",
   "metadata": {},
   "outputs": [
    {
     "name": "stdout",
     "output_type": "stream",
     "text": [
      "Hello, jon!\n"
     ]
    }
   ],
   "source": [
    "#example\n",
    "def greet(name):     # 'name' is a parameter\n",
    "    print(f\"Hello, {name}!\")\n",
    "\n",
    "greet(\"jon\")      # \"jon\" is an argument"
   ]
  },
  {
   "cell_type": "code",
   "execution_count": null,
   "id": "3d95218c-2f03-435f-8d45-300be203b7ff",
   "metadata": {},
   "outputs": [],
   "source": [
    "\"\"\"3. What are the different ways to define and call a function in Python?\n",
    "We can define a function a-\n",
    "def function_name(parameters):\n",
    "We can define a lambda function as-\n",
    "function_name = lambda parameters: expression"
   ]
  },
  {
   "cell_type": "code",
   "execution_count": 2,
   "id": "65cdbd29-f8fb-4b94-8bad-672af28f8b5c",
   "metadata": {},
   "outputs": [
    {
     "name": "stdout",
     "output_type": "stream",
     "text": [
      "Hello, bob!\n"
     ]
    }
   ],
   "source": [
    "#To call a function we can -\n",
    "def greet(name):\n",
    "    print(f\"Hello, {name}!\")\n",
    "\n",
    "greet(\"bob\")"
   ]
  },
  {
   "cell_type": "code",
   "execution_count": 3,
   "id": "3cf88ea0-73b4-42ac-bb8e-b28427919b72",
   "metadata": {},
   "outputs": [
    {
     "name": "stdout",
     "output_type": "stream",
     "text": [
      "5\n"
     ]
    }
   ],
   "source": [
    "#To call a lambda function -\n",
    "add = lambda x, y: x + y\n",
    "result = add(2, 3)\n",
    "print(result)"
   ]
  },
  {
   "cell_type": "code",
   "execution_count": null,
   "id": "36ded062-ac0d-4e6f-ab70-47fd14a57241",
   "metadata": {},
   "outputs": [],
   "source": [
    "\"\"\"4. What is the purpose of the `return` statement in a Python function?\n",
    "The return statement in a Python function is used to exit the function and pass back a value to the caller.\n",
    "It can return a single value, multiple values (as a tuple), or none if no value is specified. \n",
    "The return statement allows the function to provide output, which can then be used by other parts of the program."
   ]
  },
  {
   "cell_type": "code",
   "execution_count": 11,
   "id": "2c187e46-8287-4d37-a79d-f85046a06c88",
   "metadata": {},
   "outputs": [
    {
     "data": {
      "text/plain": [
       "8"
      ]
     },
     "execution_count": 11,
     "metadata": {},
     "output_type": "execute_result"
    }
   ],
   "source": [
    "def add(a, b):\n",
    "    return a + b\n",
    "\n",
    "add(3, 5) "
   ]
  },
  {
   "cell_type": "code",
   "execution_count": null,
   "id": "44fc16f0-4f7f-4214-a9c7-1b6f23c8936e",
   "metadata": {},
   "outputs": [],
   "source": [
    "\"\"\"5. What are iterators in Python and how do they differ from iterables?\n",
    "Iterables are objects that can be looped over (iterated).\n",
    "Examples include lists, tuples, strings, and dictionaries. \n",
    "Can be used with a for loop to fetch elements one by one.\n",
    "\n",
    "Iterators are objects that represent a stream of data.\n",
    "Created by calling the __iter__() method on an iterable."
   ]
  },
  {
   "cell_type": "code",
   "execution_count": null,
   "id": "9f2ee2c6-5af3-46cd-a0f1-04b4fc6b9ceb",
   "metadata": {},
   "outputs": [],
   "source": [
    "\"\"\"6. Explain the concept of generators in Python and how they are defined.\n",
    "Generators in Python are a type of iterable, like lists or tuples, but unlike those data types, \n",
    "they do not store their contents in memory. Instead, they generate items one at a time and only when required."
   ]
  },
  {
   "cell_type": "code",
   "execution_count": 14,
   "id": "a95ef269-de3e-481c-bb17-8c5344f4c167",
   "metadata": {},
   "outputs": [
    {
     "data": {
      "text/plain": [
       "0"
      ]
     },
     "execution_count": 14,
     "metadata": {},
     "output_type": "execute_result"
    }
   ],
   "source": [
    "def fib(n):\n",
    "    a=0\n",
    "    b=1\n",
    "    for i in range(n):\n",
    "        yield a\n",
    "        a,b=b,a+b\n",
    "f=fib(100)\n",
    "next(f)"
   ]
  },
  {
   "cell_type": "code",
   "execution_count": 15,
   "id": "f38e82d9-d29d-4daa-b888-6a0a5cfbc132",
   "metadata": {},
   "outputs": [
    {
     "data": {
      "text/plain": [
       "1"
      ]
     },
     "execution_count": 15,
     "metadata": {},
     "output_type": "execute_result"
    }
   ],
   "source": [
    "next(f)"
   ]
  },
  {
   "cell_type": "code",
   "execution_count": 16,
   "id": "06907d74-ee76-4775-b7be-6a26e0ba608b",
   "metadata": {},
   "outputs": [
    {
     "data": {
      "text/plain": [
       "1"
      ]
     },
     "execution_count": 16,
     "metadata": {},
     "output_type": "execute_result"
    }
   ],
   "source": [
    "next(f)"
   ]
  },
  {
   "cell_type": "code",
   "execution_count": null,
   "id": "5229ac1e-9e4a-42c5-b42e-45b092c0c507",
   "metadata": {},
   "outputs": [],
   "source": [
    "\"\"\"7. What are the advantages of using generators over regular functions?\n",
    "Generators: \n",
    "Generate items one at a time and only when required, which means they do not need to store the entire\n",
    "dataset in memory. \n",
    "Can be used to create infinite sequences since they generate values on demand and do not require a \n",
    "predefined size.\n",
    "\n",
    "Regular Functions: \n",
    "Typically return entire collections, which can consume a significant amount of memory if the dataset is large.\n",
    "Cannot handle infinite sequences efficiently because they need to return a complete list, which is impossible\n",
    "for infinite sequences."
   ]
  },
  {
   "cell_type": "code",
   "execution_count": null,
   "id": "44e3673d-1f2e-4590-82a8-dba26a0f6e88",
   "metadata": {},
   "outputs": [],
   "source": [
    "\"\"\"8. What is a lambda function in Python and when is it typically used?\n",
    "A lambda function in Python is an anonymous function expressed as a single statement.\n",
    "It is defined using the lambda keyword and can have any number of input parameters but only one expression. \n",
    "Syntax-\n",
    "lambda arguments:expression"
   ]
  },
  {
   "cell_type": "code",
   "execution_count": 17,
   "id": "668004fa-b51c-4f54-a90b-0a8e5e6c7d7d",
   "metadata": {},
   "outputs": [
    {
     "data": {
      "text/plain": [
       "4"
      ]
     },
     "execution_count": 17,
     "metadata": {},
     "output_type": "execute_result"
    }
   ],
   "source": [
    "#example\n",
    "sq=lambda x:x**2\n",
    "sq(2)"
   ]
  },
  {
   "cell_type": "code",
   "execution_count": null,
   "id": "5b521370-51c5-4a5e-b8e7-aa5c40fc1d98",
   "metadata": {},
   "outputs": [],
   "source": [
    "\"\"\"9. Explain the purpose and usage of the `map()` function in Python.\n",
    "The map() function in Python is used to apply a given function to all items in an iterable \n",
    "(such as a list, tuple, or set) and return a map object (an iterator) with the results. \n",
    "This is useful for transforming data in a concise and readable manner.\n",
    "Syntax-\n",
    "map(func,iterable)"
   ]
  },
  {
   "cell_type": "code",
   "execution_count": 21,
   "id": "33ed60dc-9a15-4642-a0a2-745f427500cb",
   "metadata": {},
   "outputs": [
    {
     "data": {
      "text/plain": [
       "[12, 14, 16, 18, 19]"
      ]
     },
     "execution_count": 21,
     "metadata": {},
     "output_type": "execute_result"
    }
   ],
   "source": [
    "#example\n",
    "l=[2,4,6,8,9]\n",
    "list(map(lambda x:x+10,l))"
   ]
  },
  {
   "cell_type": "code",
   "execution_count": null,
   "id": "550b92f5-7e9a-465f-b26f-6e8996db8db4",
   "metadata": {},
   "outputs": [],
   "source": [
    "\"\"\"10. What is the difference between `map()`, `reduce()`, and `filter()` functions in Python?\n",
    "map()\n",
    "Applies a given function to all items in an iterable and returns a map object (iterator) with the results.\n",
    "Used when you want to transform all elements in an iterable.\n",
    "\n",
    "reduce()\n",
    "Applies a function of two arguments cumulatively to the items of an iterable, reducing the iterable to a\n",
    "single value.\n",
    "Used when you need to perform a reduction operation\n",
    "\n",
    "filter()\n",
    "Filters items in an iterable based on a function that returns either True or False and returns a filter \n",
    "object (iterator) with only the items for which the function returns True.\n",
    "Used when you want to select a subset of elements from an iterable."
   ]
  },
  {
   "cell_type": "code",
   "execution_count": null,
   "id": "75bf50f7-ebdc-4f47-81f1-c989b3028e8c",
   "metadata": {},
   "outputs": [],
   "source": [
    "\"\"\"11. Write the internal mechanism for sum operation using  reduce function on this given\n",
    "list:[47,11,42,13]; "
   ]
  },
  {
   "cell_type": "code",
   "execution_count": 22,
   "id": "94fc90d1-bf2e-48dd-9738-7d1ce4fc66b5",
   "metadata": {},
   "outputs": [
    {
     "data": {
      "text/plain": [
       "113"
      ]
     },
     "execution_count": 22,
     "metadata": {},
     "output_type": "execute_result"
    }
   ],
   "source": [
    "from functools import reduce\n",
    "l=[47,11,42,13]\n",
    "reduce(lambda x,y:x+y,l)\n",
    "# 47 (first element) and 11 (second element). Operation: add(47, 11) which equals 58\n",
    "#58 (result from previous iteration) and 42 (next element). Operation: add(58, 42) which equals 100.\n",
    "#100 (result from previous iteration) and 13 (last element). Operation: add(100, 13) which equals 113"
   ]
  },
  {
   "cell_type": "markdown",
   "id": "9a1b5f65-f83f-4e92-95ea-e23b8b45ceb0",
   "metadata": {},
   "source": [
    "########   Practical Questions:"
   ]
  },
  {
   "cell_type": "code",
   "execution_count": null,
   "id": "83368fc4-81d0-477c-87d8-48fa51648f4e",
   "metadata": {},
   "outputs": [],
   "source": [
    "\"\"\"1. Write a Python function that takes a list of numbers as input and returns the sum of all even numbers in\n",
    "the list."
   ]
  },
  {
   "cell_type": "code",
   "execution_count": 25,
   "id": "0d5e1f34-e76e-4d2c-9fb6-d37fb001dc7b",
   "metadata": {},
   "outputs": [
    {
     "name": "stdout",
     "output_type": "stream",
     "text": [
      "20\n"
     ]
    }
   ],
   "source": [
    "def sum_even(numbers):\n",
    "    even_numbers = [num for num in numbers if num % 2 == 0]\n",
    "    return sum(even_numbers)\n",
    "\n",
    "\n",
    "numbers = [4,6,2,5,7,8]\n",
    "result = sum_even(numbers)\n",
    "print(result)  "
   ]
  },
  {
   "cell_type": "code",
   "execution_count": null,
   "id": "c33cf586-ab03-48d5-9e3a-90376413580f",
   "metadata": {},
   "outputs": [],
   "source": [
    "\"\"\"2. Create a Python function that accepts a string and returns the reverse of that string."
   ]
  },
  {
   "cell_type": "code",
   "execution_count": 26,
   "id": "aeb40f5e-0ed3-4e96-a652-e08ba33d46ca",
   "metadata": {},
   "outputs": [
    {
     "name": "stdout",
     "output_type": "stream",
     "text": [
      "emoclew\n"
     ]
    }
   ],
   "source": [
    "def reverse_string(s):\n",
    "    return s[::-1]\n",
    "\n",
    "input_string = \"welcome\"\n",
    "reversed_string = reverse_string(input_string)\n",
    "print(reversed_string) "
   ]
  },
  {
   "cell_type": "code",
   "execution_count": null,
   "id": "d2e0c17f-34fd-4d50-9fa7-75c67764bdcb",
   "metadata": {},
   "outputs": [],
   "source": [
    "\"\"\"3. Implement a Python function that takes a list of integers and returns a new list containing the squares of\n",
    "each number."
   ]
  },
  {
   "cell_type": "code",
   "execution_count": 27,
   "id": "62326426-3aa8-4400-b012-1187ee1b90d8",
   "metadata": {},
   "outputs": [
    {
     "name": "stdout",
     "output_type": "stream",
     "text": [
      "[1, 4, 9, 16]\n"
     ]
    }
   ],
   "source": [
    "def square_numbers(numbers):\n",
    "    return [num ** 2 for num in numbers]\n",
    "\n",
    "input_list = [1, 2, 3, 4]\n",
    "squared_list = square_numbers(input_list)\n",
    "print(squared_list) "
   ]
  },
  {
   "cell_type": "code",
   "execution_count": null,
   "id": "ab91f012-35bd-4158-a0a0-20069bfd3034",
   "metadata": {},
   "outputs": [],
   "source": [
    "\"\"\"4. Write a Python function that checks if a given number is prime or not from 1 to 200."
   ]
  },
  {
   "cell_type": "code",
   "execution_count": 29,
   "id": "d8317e7c-30a6-42ab-8220-19b7f2f0c3dc",
   "metadata": {},
   "outputs": [
    {
     "name": "stdin",
     "output_type": "stream",
     "text": [
      "Enter an integer between 1 and 200:  45\n"
     ]
    },
    {
     "name": "stdout",
     "output_type": "stream",
     "text": [
      "45 is not a prime number.\n"
     ]
    }
   ],
   "source": [
    "def is_prime(n):\n",
    "    if n <= 1:\n",
    "        return False\n",
    "    if n == 2:\n",
    "        return True\n",
    "    if n % 2 == 0:\n",
    "        return False\n",
    "    for i in range(3, int(n**0.5) + 1, 2):\n",
    "        if n % i == 0:\n",
    "            return False\n",
    "    return True\n",
    "\n",
    "def check_number_in_range(num):\n",
    "    if 1 <= num <= 200:\n",
    "        if is_prime(num):\n",
    "            return f\"{num} is a prime number.\"\n",
    "        else:\n",
    "            return f\"{num} is not a prime number.\"\n",
    "    else:\n",
    "        return \"Number is out of range. Please enter a number between 1 and 200.\"\n",
    "\n",
    "input_number = int(input(\"Enter an integer between 1 and 200: \"))\n",
    "result = check_number_in_range(input_number)\n",
    "print(result)"
   ]
  },
  {
   "cell_type": "code",
   "execution_count": null,
   "id": "78ae3d39-94a7-47e2-b654-267fb43579e7",
   "metadata": {},
   "outputs": [],
   "source": [
    "\"\"\"5. Create an iterator class in Python that generates the Fibonacci sequence up to a specified number of\n",
    "terms."
   ]
  },
  {
   "cell_type": "code",
   "execution_count": 30,
   "id": "96599af4-88de-4c9b-b334-1c073c809885",
   "metadata": {},
   "outputs": [
    {
     "name": "stdin",
     "output_type": "stream",
     "text": [
      "Enter the number of terms for the Fibonacci sequence:  7\n"
     ]
    },
    {
     "name": "stdout",
     "output_type": "stream",
     "text": [
      "Fibonacci sequence:\n",
      "[0, 1, 1, 2, 3, 5, 8]\n"
     ]
    }
   ],
   "source": [
    "def generate_fibonacci(n):\n",
    "    fib_sequence = []\n",
    "    a, b = 0, 1\n",
    "    for _ in range(n):\n",
    "        fib_sequence.append(a)\n",
    "        a, b = b, a + b\n",
    "    return fib_sequence\n",
    "\n",
    "num_terms = int(input(\"Enter the number of terms for the Fibonacci sequence: \"))\n",
    "fibonacci_sequence = generate_fibonacci(num_terms)\n",
    "\n",
    "print(\"Fibonacci sequence:\")\n",
    "print(fibonacci_sequence)"
   ]
  },
  {
   "cell_type": "code",
   "execution_count": null,
   "id": "41d55ac5-42e3-405e-b59d-f60c93c6a092",
   "metadata": {},
   "outputs": [],
   "source": [
    "\"\"\"6. Write a generator function in Python that yields the powers of 2 up to a given exponent."
   ]
  },
  {
   "cell_type": "code",
   "execution_count": 31,
   "id": "27a4e060-361d-4f3c-a8d8-c4fba13f0810",
   "metadata": {},
   "outputs": [
    {
     "name": "stdin",
     "output_type": "stream",
     "text": [
      "Enter the maximum exponent:  4\n"
     ]
    },
    {
     "name": "stdout",
     "output_type": "stream",
     "text": [
      "1\n",
      "2\n",
      "4\n",
      "8\n",
      "16\n"
     ]
    }
   ],
   "source": [
    "def powers_of_2(max_exponent):\n",
    "    exponent = 0\n",
    "    while exponent <= max_exponent:\n",
    "        yield 2 ** exponent\n",
    "        exponent += 1\n",
    "\n",
    "max_exp = int(input(\"Enter the maximum exponent: \"))\n",
    "for power in powers_of_2(max_exp):\n",
    "    print(power)"
   ]
  },
  {
   "cell_type": "code",
   "execution_count": null,
   "id": "21e36d7f-aebc-4d69-8c9a-944fb6c8ee1f",
   "metadata": {},
   "outputs": [],
   "source": [
    "\"\"\"7. Implement a generator function that reads a file line by line and yields each line as a string."
   ]
  },
  {
   "cell_type": "code",
   "execution_count": null,
   "id": "9a190b49-80f1-4fec-a3d3-6c0d253b1185",
   "metadata": {},
   "outputs": [],
   "source": [
    "def read_file(file_path):\n",
    "    with open(file_path, 'r') as file:\n",
    "        for line in file:\n",
    "            yield line.strip()  \n",
    "\n",
    "file_path = input(\"Enter the path to the file: \")\n",
    "for line in read_file(file_path):\n",
    "    print(line)"
   ]
  },
  {
   "cell_type": "code",
   "execution_count": null,
   "id": "9fc3b7b0-fef1-464c-b471-44fd67d0b6f1",
   "metadata": {},
   "outputs": [],
   "source": [
    "\"\"\"8. Use a lambda function in Python to sort a list of tuples based on the second element of each tuple."
   ]
  },
  {
   "cell_type": "code",
   "execution_count": 32,
   "id": "7307ac31-4bdf-49d6-b8b6-ef2e0e0d1f97",
   "metadata": {},
   "outputs": [
    {
     "name": "stdout",
     "output_type": "stream",
     "text": [
      "[(4, 1), (5, 2), (1, 3), (3, 4)]\n"
     ]
    }
   ],
   "source": [
    "list_of_tuples = [(1, 3), (4, 1), (5, 2), (3, 4)]\n",
    "\n",
    "sorted_list = sorted(list_of_tuples, key=lambda x: x[1])\n",
    "\n",
    "print(sorted_list)"
   ]
  },
  {
   "cell_type": "code",
   "execution_count": null,
   "id": "8794c68d-cd0e-4ed6-8447-78e29663640a",
   "metadata": {},
   "outputs": [],
   "source": [
    "\"\"\"9. Write a Python program that uses `map()` to convert a list of temperatures from Celsius to Fahrenheit."
   ]
  },
  {
   "cell_type": "code",
   "execution_count": 33,
   "id": "4bc81392-b59e-49da-95ec-3bdc03b6fca0",
   "metadata": {},
   "outputs": [
    {
     "name": "stdout",
     "output_type": "stream",
     "text": [
      "Celsius temperatures: [0, 10, 20, 30, 40]\n",
      "Fahrenheit temperatures: [32.0, 50.0, 68.0, 86.0, 104.0]\n"
     ]
    }
   ],
   "source": [
    "def celsius_to_fahrenheit(celsius):\n",
    "    return (celsius * 9/5) + 32\n",
    "\n",
    "celsius_temperatures = [0, 10, 20, 30, 40]\n",
    "\n",
    "fahrenheit_temperatures = list(map(celsius_to_fahrenheit, celsius_temperatures))\n",
    "\n",
    "print(\"Celsius temperatures:\", celsius_temperatures)\n",
    "print(\"Fahrenheit temperatures:\", fahrenheit_temperatures)"
   ]
  },
  {
   "cell_type": "code",
   "execution_count": null,
   "id": "36c475a5-ffd0-4664-9796-5fd68d33f341",
   "metadata": {},
   "outputs": [],
   "source": [
    "\"\"\"10. Create a Python program that uses `filter()` to remove all the vowels from a given string"
   ]
  },
  {
   "cell_type": "code",
   "execution_count": 34,
   "id": "247cdd5c-3b6b-462c-9d61-da1e02b04fa3",
   "metadata": {},
   "outputs": [
    {
     "name": "stdin",
     "output_type": "stream",
     "text": [
      "Enter a string:  functions\n"
     ]
    },
    {
     "name": "stdout",
     "output_type": "stream",
     "text": [
      "String without vowels: fnctns\n"
     ]
    }
   ],
   "source": [
    "def is_not_vowel(char):\n",
    "    vowels = 'aeiouAEIOU'\n",
    "    return char not in vowels\n",
    "\n",
    "def remove_vowels(input_string):\n",
    "    filtered_characters = filter(is_not_vowel, input_string)\n",
    "    return ''.join(filtered_characters)\n",
    "\n",
    "input_string = input(\"Enter a string: \")\n",
    "result_string = remove_vowels(input_string)\n",
    "\n",
    "print(\"String without vowels:\", result_string)"
   ]
  },
  {
   "cell_type": "code",
   "execution_count": null,
   "id": "fe8b90e1-4a68-4f29-89e1-c56b9a74bf97",
   "metadata": {},
   "outputs": [],
   "source": [
    "\"\"\"Write a Python program, which returns a list with 2-tuples. Each tuple consists of the order number and the\n",
    "product of the price per item and the quantity. The product should be increased by 10,- € if the value of the\n",
    "order is smaller than 100,00 €.\n",
    "\n",
    "Write a Python program using lambda and map."
   ]
  },
  {
   "cell_type": "code",
   "execution_count": 35,
   "id": "6960b136-4e4d-4dc2-9a24-42deb4244d73",
   "metadata": {},
   "outputs": [
    {
     "name": "stdout",
     "output_type": "stream",
     "text": [
      "[(34587, 163.8), (98762, 284.0), (77226, 108.85000000000001), (88112, 84.97)]\n"
     ]
    }
   ],
   "source": [
    "def process_order(order):\n",
    "    order_num, _, quantity, price = order\n",
    "    total = quantity * price\n",
    "    if total < 100:\n",
    "        total += 10\n",
    "    return (order_num, total)\n",
    "\n",
    "book_orders = [\n",
    "    [34587, \"Learning Python, Mark Lutz\", 4, 40.95],\n",
    "    [98762, \"Programming Python, Mark Lutz\", 5, 56.80],\n",
    "    [77226, \"Head First Python, Paul Barry\", 3, 32.95],\n",
    "    [88112, \"Einführung in Python3, Bernd Klein\", 3, 24.99]\n",
    "]\n",
    "\n",
    "result = list(map(lambda x: process_order(x), book_orders))\n",
    "\n",
    "print(result)"
   ]
  }
 ],
 "metadata": {
  "kernelspec": {
   "display_name": "Python 3 (ipykernel)",
   "language": "python",
   "name": "python3"
  },
  "language_info": {
   "codemirror_mode": {
    "name": "ipython",
    "version": 3
   },
   "file_extension": ".py",
   "mimetype": "text/x-python",
   "name": "python",
   "nbconvert_exporter": "python",
   "pygments_lexer": "ipython3",
   "version": "3.10.8"
  }
 },
 "nbformat": 4,
 "nbformat_minor": 5
}
